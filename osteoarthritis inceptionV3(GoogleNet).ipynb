{
 "cells": [
  {
   "cell_type": "code",
   "execution_count": 1,
   "id": "693442a2",
   "metadata": {},
   "outputs": [],
   "source": [
    "import pandas as pd\n",
    "import numpy as np\n",
    "import tensorflow as tf\n",
    "from tensorflow import keras\n",
    "import matplotlib.pyplot as plt"
   ]
  },
  {
   "cell_type": "code",
   "execution_count": 6,
   "id": "7b8ac78c",
   "metadata": {},
   "outputs": [],
   "source": [
    "train_dir = '/Users/kavleenkaur/Downloads/kavi/internshala deep learning/Osteoarthritis_Assignment_dataset/train'"
   ]
  },
  {
   "cell_type": "code",
   "execution_count": 7,
   "id": "1028afaf",
   "metadata": {},
   "outputs": [],
   "source": [
    "valid_dir = '/Users/kavleenkaur/Downloads/kavi/internshala deep learning/Osteoarthritis_Assignment_dataset/Valid'\n",
    "test_dir = '/Users/kavleenkaur/Downloads/kavi/internshala deep learning/Osteoarthritis_Assignment_dataset/test'"
   ]
  },
  {
   "cell_type": "code",
   "execution_count": 8,
   "id": "ab1ff64e",
   "metadata": {},
   "outputs": [],
   "source": [
    "from tensorflow.keras.preprocessing.image import ImageDataGenerator"
   ]
  },
  {
   "cell_type": "code",
   "execution_count": 9,
   "id": "561f7336",
   "metadata": {},
   "outputs": [],
   "source": [
    "train_datagen = ImageDataGenerator(rescale = 1./255)\n",
    "test_datagen = ImageDataGenerator(rescale = 1./255)"
   ]
  },
  {
   "cell_type": "code",
   "execution_count": 11,
   "id": "3643823a",
   "metadata": {},
   "outputs": [
    {
     "name": "stdout",
     "output_type": "stream",
     "text": [
      "Found 2350 images belonging to 2 classes.\n",
      "Found 641 images belonging to 2 classes.\n",
      "Found 845 images belonging to 2 classes.\n"
     ]
    }
   ],
   "source": [
    "train_datagen = ImageDataGenerator(\n",
    "      rescale=1./255,\n",
    "      rotation_range=40,\n",
    "      width_shift_range=0.2,\n",
    "      height_shift_range=0.2,\n",
    "      shear_range=0.2,\n",
    "      zoom_range=0.2,\n",
    "      horizontal_flip=True)\n",
    "\n",
    "test_datagen = ImageDataGenerator(rescale=1./255)\n",
    "\n",
    "train_generator = train_datagen.flow_from_directory(\n",
    "        train_dir,\n",
    "        target_size=(150, 150),\n",
    "        batch_size=20,\n",
    "        class_mode='binary')\n",
    "\n",
    "valid_generator = test_datagen.flow_from_directory(\n",
    "        valid_dir,\n",
    "        target_size=(150, 150),\n",
    "        batch_size=20,\n",
    "        class_mode='binary')\n",
    "test_generator = test_datagen.flow_from_directory(\n",
    "        test_dir,\n",
    "        target_size=(150, 150),\n",
    "        batch_size=20,\n",
    "        class_mode='binary')"
   ]
  },
  {
   "cell_type": "code",
   "execution_count": 14,
   "id": "6ab3ba14",
   "metadata": {},
   "outputs": [
    {
     "name": "stdout",
     "output_type": "stream",
     "text": [
      "Downloading data from https://storage.googleapis.com/tensorflow/keras-applications/inception_v3/inception_v3_weights_tf_dim_ordering_tf_kernels_notop.h5\n",
      "87910968/87910968 [==============================] - 7s 0us/step\n"
     ]
    }
   ],
   "source": [
    "from tensorflow.keras.applications import InceptionV3\n",
    "\n",
    "conv_base = InceptionV3(weights='imagenet',\n",
    "                  include_top=False,\n",
    "                  input_shape=(150, 150, 3))"
   ]
  },
  {
   "cell_type": "code",
   "execution_count": 15,
   "id": "8c11e3f0",
   "metadata": {},
   "outputs": [],
   "source": [
    "from tensorflow.keras import models\n",
    "from tensorflow.keras import layers\n",
    "\n",
    "model = models.Sequential()\n",
    "model.add(conv_base)\n",
    "model.add(layers.Flatten())\n",
    "model.add(layers.Dense(256, activation='relu'))\n",
    "model.add(layers.Dense(1, activation='sigmoid'))"
   ]
  },
  {
   "cell_type": "code",
   "execution_count": 16,
   "id": "8e13fc27",
   "metadata": {},
   "outputs": [],
   "source": [
    "conv_base.trainable = False"
   ]
  },
  {
   "cell_type": "code",
   "execution_count": 19,
   "id": "c7a61e49",
   "metadata": {},
   "outputs": [],
   "source": [
    "from tensorflow.keras import optimizers\n",
    "\n",
    "model.compile(loss='binary_crossentropy',\n",
    "              optimizer=tf.keras.optimizers.legacy.RMSprop(learning_rate=2e-5),\n",
    "              metrics=['acc'])"
   ]
  },
  {
   "cell_type": "code",
   "execution_count": 20,
   "id": "4d3d85ac",
   "metadata": {},
   "outputs": [
    {
     "name": "stdout",
     "output_type": "stream",
     "text": [
      "Epoch 1/10\n"
     ]
    },
    {
     "name": "stderr",
     "output_type": "stream",
     "text": [
      "/var/folders/kk/xmhwr_2d78l5dsqlkws2vy880000gn/T/ipykernel_4400/1349058306.py:1: UserWarning: `Model.fit_generator` is deprecated and will be removed in a future version. Please use `Model.fit`, which supports generators.\n",
      "  history = model.fit_generator(\n"
     ]
    },
    {
     "name": "stdout",
     "output_type": "stream",
     "text": [
      "110/110 [==============================] - 22s 190ms/step - loss: 0.5566 - acc: 0.7068 - val_loss: 0.3632 - val_acc: 0.8683\n",
      "Epoch 2/10\n",
      "110/110 [==============================] - 21s 192ms/step - loss: 0.4368 - acc: 0.7804 - val_loss: 0.3949 - val_acc: 0.8017\n",
      "Epoch 3/10\n",
      "110/110 [==============================] - 22s 195ms/step - loss: 0.4333 - acc: 0.7959 - val_loss: 0.2742 - val_acc: 0.8900\n",
      "Epoch 4/10\n",
      "110/110 [==============================] - 22s 200ms/step - loss: 0.4078 - acc: 0.8068 - val_loss: 0.2860 - val_acc: 0.8733\n",
      "Epoch 5/10\n",
      "110/110 [==============================] - 22s 198ms/step - loss: 0.4162 - acc: 0.8096 - val_loss: 0.2342 - val_acc: 0.9133\n",
      "Epoch 6/10\n",
      "110/110 [==============================] - 23s 207ms/step - loss: 0.4096 - acc: 0.8050 - val_loss: 0.2300 - val_acc: 0.9100\n",
      "Epoch 7/10\n",
      "110/110 [==============================] - 22s 203ms/step - loss: 0.3893 - acc: 0.8123 - val_loss: 0.2427 - val_acc: 0.9100\n",
      "Epoch 8/10\n",
      "110/110 [==============================] - 22s 204ms/step - loss: 0.4068 - acc: 0.8082 - val_loss: 0.2644 - val_acc: 0.8783\n",
      "Epoch 9/10\n",
      "110/110 [==============================] - 23s 206ms/step - loss: 0.3761 - acc: 0.8315 - val_loss: 0.2583 - val_acc: 0.9017\n",
      "Epoch 10/10\n",
      "110/110 [==============================] - 23s 208ms/step - loss: 0.3896 - acc: 0.8137 - val_loss: 0.2288 - val_acc: 0.9150\n"
     ]
    }
   ],
   "source": [
    "history = model.fit_generator(\n",
    "      train_generator,\n",
    "      steps_per_epoch=110,\n",
    "      epochs=10,\n",
    "      validation_data=valid_generator,\n",
    "      validation_steps=30)"
   ]
  },
  {
   "cell_type": "code",
   "execution_count": 21,
   "id": "f356f64c",
   "metadata": {},
   "outputs": [
    {
     "data": {
      "image/png": "[encoded data removed]",
      "text/plain": [
       "<Figure size 800x500 with 1 Axes>"
      ]
     },
     "metadata": {},
     "output_type": "display_data"
    }
   ],
   "source": [
    "pd.DataFrame(history.history).plot(figsize=(8, 5))\n",
    "plt.grid(True)\n",
    "plt.gca().set_ylim(0, 1)\n",
    "plt.show()"
   ]
  },
  {
   "cell_type": "code",
   "execution_count": 23,
   "id": "e6a36e6f",
   "metadata": {},
   "outputs": [
    {
     "name": "stdout",
     "output_type": "stream",
     "text": [
      "20/20 [==============================] - 3s 134ms/step - loss: 2.7924 - acc: 0.3850\n"
     ]
    },
    {
     "data": {
      "text/plain": [
       "[2.7923784255981445, 0.38499999046325684]"
      ]
     },
     "execution_count": 23,
     "metadata": {},
     "output_type": "execute_result"
    }
   ],
   "source": [
    "model.evaluate(test_generator, steps=20)"
   ]
  },
  {
   "cell_type": "markdown",
   "id": "55d98a7a",
   "metadata": {},
   "source": [
    "# InceptionResNetV2 (cats & dogs)"
   ]
  },
  {
   "cell_type": "code",
   "execution_count": 24,
   "id": "26e27b5f",
   "metadata": {},
   "outputs": [],
   "source": [
    "train_dir = '/Users/kavleenkaur/Downloads/kavi/internshala deep learning/Data set, Presentation and Python Notebook for Image recognition project module/cats_and_dogs/train'\n",
    "valid_dir = '/Users/kavleenkaur/Downloads/kavi/internshala deep learning/Data set, Presentation and Python Notebook for Image recognition project module/cats_and_dogs/validation'\n",
    "test_dir = '/Users/kavleenkaur/Downloads/kavi/internshala deep learning/Data set, Presentation and Python Notebook for Image recognition project module/cats_and_dogs/test'"
   ]
  },
  {
   "cell_type": "code",
   "execution_count": 25,
   "id": "b8438391",
   "metadata": {},
   "outputs": [],
   "source": [
    "from tensorflow.keras.preprocessing.image import ImageDataGenerator\n",
    "train_datagen = ImageDataGenerator(rescale = 1./255)\n",
    "test_datagen = ImageDataGenerator(rescale = 1./255)"
   ]
  },
  {
   "cell_type": "code",
   "execution_count": 26,
   "id": "2d28746f",
   "metadata": {},
   "outputs": [
    {
     "name": "stdout",
     "output_type": "stream",
     "text": [
      "Found 2000 images belonging to 2 classes.\n",
      "Found 1000 images belonging to 2 classes.\n",
      "Found 1000 images belonging to 2 classes.\n"
     ]
    }
   ],
   "source": [
    "train_datagen = ImageDataGenerator(\n",
    "      rescale=1./255,\n",
    "      rotation_range=40,\n",
    "      width_shift_range=0.2,\n",
    "      height_shift_range=0.2,\n",
    "      shear_range=0.2,\n",
    "      zoom_range=0.2,\n",
    "      horizontal_flip=True)\n",
    "\n",
    "test_datagen = ImageDataGenerator(rescale=1./255)\n",
    "\n",
    "train_generator = train_datagen.flow_from_directory(\n",
    "        train_dir,\n",
    "        target_size=(150, 150),\n",
    "        batch_size=20,\n",
    "        class_mode='binary')\n",
    "\n",
    "valid_generator = test_datagen.flow_from_directory(\n",
    "        valid_dir,\n",
    "        target_size=(150, 150),\n",
    "        batch_size=20,\n",
    "        class_mode='binary')\n",
    "test_generator = test_datagen.flow_from_directory(\n",
    "        test_dir,\n",
    "        target_size=(150, 150),\n",
    "        batch_size=20,\n",
    "        class_mode='binary')"
   ]
  },
  {
   "cell_type": "code",
   "execution_count": 27,
   "id": "d2038733",
   "metadata": {},
   "outputs": [
    {
     "name": "stdout",
     "output_type": "stream",
     "text": [
      "Downloading data from https://storage.googleapis.com/tensorflow/keras-applications/inception_resnet_v2/inception_resnet_v2_weights_tf_dim_ordering_tf_kernels_notop.h5\n",
      "219055592/219055592 [==============================] - 15s 0us/step\n"
     ]
    }
   ],
   "source": [
    "from tensorflow.keras.applications import InceptionResNetV2 \n",
    "\n",
    "conv_base = InceptionResNetV2 (weights='imagenet',\n",
    "                  include_top=False,\n",
    "                  input_shape=(150, 150, 3))"
   ]
  },
  {
   "cell_type": "code",
   "execution_count": 28,
   "id": "3206e51f",
   "metadata": {},
   "outputs": [],
   "source": [
    "from tensorflow.keras import models\n",
    "from tensorflow.keras import layers\n",
    "\n",
    "model2 = models.Sequential()\n",
    "model2.add(conv_base)\n",
    "model2.add(layers.Flatten())\n",
    "model2.add(layers.Dense(256, activation='relu'))\n",
    "model2.add(layers.Dense(1, activation='sigmoid'))"
   ]
  },
  {
   "cell_type": "code",
   "execution_count": 29,
   "id": "d639535d",
   "metadata": {},
   "outputs": [],
   "source": [
    "conv_base.trainable = False"
   ]
  },
  {
   "cell_type": "code",
   "execution_count": 30,
   "id": "719ccf9a",
   "metadata": {},
   "outputs": [],
   "source": [
    "from tensorflow.keras import optimizers\n",
    "\n",
    "model2.compile(loss='binary_crossentropy',\n",
    "              optimizer=tf.keras.optimizers.legacy.RMSprop(learning_rate=2e-5),\n",
    "              metrics=['acc'])"
   ]
  },
  {
   "cell_type": "code",
   "execution_count": 32,
   "id": "bf558eb8",
   "metadata": {},
   "outputs": [
    {
     "name": "stdout",
     "output_type": "stream",
     "text": [
      "Epoch 1/10\n"
     ]
    },
    {
     "name": "stderr",
     "output_type": "stream",
     "text": [
      "/var/folders/kk/xmhwr_2d78l5dsqlkws2vy880000gn/T/ipykernel_4400/2667359688.py:1: UserWarning: `Model.fit_generator` is deprecated and will be removed in a future version. Please use `Model.fit`, which supports generators.\n",
      "  history = model2.fit_generator(\n"
     ]
    },
    {
     "name": "stdout",
     "output_type": "stream",
     "text": [
      "100/100 [==============================] - 48s 478ms/step - loss: 0.1940 - acc: 0.9310 - val_loss: 0.0728 - val_acc: 0.9760\n",
      "Epoch 2/10\n",
      "100/100 [==============================] - 49s 489ms/step - loss: 0.1569 - acc: 0.9440 - val_loss: 0.0760 - val_acc: 0.9760\n",
      "Epoch 3/10\n",
      "100/100 [==============================] - 50s 504ms/step - loss: 0.1489 - acc: 0.9440 - val_loss: 0.0683 - val_acc: 0.9710\n",
      "Epoch 4/10\n",
      "100/100 [==============================] - 55s 553ms/step - loss: 0.1337 - acc: 0.9470 - val_loss: 0.0745 - val_acc: 0.9710\n",
      "Epoch 5/10\n",
      "100/100 [==============================] - 59s 593ms/step - loss: 0.1392 - acc: 0.9485 - val_loss: 0.0769 - val_acc: 0.9720\n",
      "Epoch 6/10\n",
      "100/100 [==============================] - 59s 589ms/step - loss: 0.1286 - acc: 0.9480 - val_loss: 0.0618 - val_acc: 0.9710\n",
      "Epoch 7/10\n",
      "100/100 [==============================] - 58s 577ms/step - loss: 0.1287 - acc: 0.9490 - val_loss: 0.0582 - val_acc: 0.9770\n",
      "Epoch 8/10\n",
      "100/100 [==============================] - 58s 577ms/step - loss: 0.1177 - acc: 0.9540 - val_loss: 0.0594 - val_acc: 0.9820\n",
      "Epoch 9/10\n",
      "100/100 [==============================] - 58s 579ms/step - loss: 0.1132 - acc: 0.9530 - val_loss: 0.0672 - val_acc: 0.9780\n",
      "Epoch 10/10\n",
      "100/100 [==============================] - 58s 583ms/step - loss: 0.1059 - acc: 0.9560 - val_loss: 0.0701 - val_acc: 0.9750\n"
     ]
    }
   ],
   "source": [
    "history = model2.fit_generator(\n",
    "      train_generator,\n",
    "      steps_per_epoch=100,\n",
    "      epochs=10,\n",
    "      validation_data=valid_generator,\n",
    "      validation_steps=50)"
   ]
  },
  {
   "cell_type": "code",
   "execution_count": 33,
   "id": "c3687637",
   "metadata": {},
   "outputs": [
    {
     "data": {
      "image/png": "[encoded data removed]",
      "text/plain": [
       "<Figure size 800x500 with 1 Axes>"
      ]
     },
     "metadata": {},
     "output_type": "display_data"
    }
   ],
   "source": [
    "pd.DataFrame(history.history).plot(figsize=(8, 5))\n",
    "plt.grid(True)\n",
    "plt.gca().set_ylim(0, 1)\n",
    "plt.show()"
   ]
  },
  {
   "cell_type": "code",
   "execution_count": 34,
   "id": "ab55e5d4",
   "metadata": {},
   "outputs": [
    {
     "name": "stdout",
     "output_type": "stream",
     "text": [
      "20/20 [==============================] - 3s 131ms/step - loss: 9.2604 - acc: 0.4500\n"
     ]
    },
    {
     "data": {
      "text/plain": [
       "[9.260383605957031, 0.44999998807907104]"
      ]
     },
     "execution_count": 34,
     "metadata": {},
     "output_type": "execute_result"
    }
   ],
   "source": [
    "model.evaluate(test_generator, steps=20)"
   ]
  },
  {
   "cell_type": "code",
   "execution_count": null,
   "id": "6b9d5cc4",
   "metadata": {},
   "outputs": [],
   "source": []
  }
 ],
 "metadata": {
  "kernelspec": {
   "display_name": "Python 3 (ipykernel)",
   "language": "python",
   "name": "python3"
  },
  "language_info": {
   "codemirror_mode": {
    "name": "ipython",
    "version": 3
   },
   "file_extension": ".py",
   "mimetype": "text/x-python",
   "name": "python",
   "nbconvert_exporter": "python",
   "pygments_lexer": "ipython3",
   "version": "3.11.3"
  }
 },
 "nbformat": 4,
 "nbformat_minor": 5
}
